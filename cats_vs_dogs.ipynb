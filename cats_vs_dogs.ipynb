{
 "cells": [
  {
   "cell_type": "code",
   "execution_count": 1,
   "metadata": {},
   "outputs": [],
   "source": [
    "import numpy as np\n",
    "from datasets import load_dataset\n",
    "from PIL import Image\n",
    "from logistic_regression import LogisticRegression, flatten"
   ]
  },
  {
   "cell_type": "code",
   "execution_count": 2,
   "metadata": {},
   "outputs": [],
   "source": [
    "dataset = load_dataset(\"Bingsu/Cat_and_Dog\")\n",
    "dataset.set_format(\"np\")"
   ]
  },
  {
   "cell_type": "code",
   "execution_count": 3,
   "metadata": {},
   "outputs": [],
   "source": [
    "def reshape_example_image_array(example):\n",
    "    image_array = example[\"image\"]\n",
    "    image = Image.fromarray(image_array, mode=\"RGB\")\n",
    "    image = image.resize((32, 32))\n",
    "    reshaped_image_array = np.array(image)\n",
    "    example[\"image\"] = reshaped_image_array\n",
    "    return example"
   ]
  },
  {
   "cell_type": "code",
   "execution_count": 4,
   "metadata": {},
   "outputs": [],
   "source": [
    "m_train, m_test = 5000, 500\n",
    "train, test = dataset[\"train\"].select(range(m_train)), dataset[\"test\"].select(range(m_test))\n",
    "trainset = train.map(function=reshape_example_image_array)\n",
    "testset = test.map(function=reshape_example_image_array)"
   ]
  },
  {
   "cell_type": "code",
   "execution_count": 5,
   "metadata": {},
   "outputs": [],
   "source": [
    "def get_images_and_labels(dataset):\n",
    "    inputs, labels = [], []\n",
    "    for i in range(len(dataset)):\n",
    "        inputs.append(dataset[i][\"image\"])\n",
    "        labels.append(dataset[i][\"labels\"])\n",
    "    return np.array(inputs), np.array(labels)"
   ]
  },
  {
   "cell_type": "code",
   "execution_count": 6,
   "metadata": {},
   "outputs": [
    {
     "name": "stdout",
     "output_type": "stream",
     "text": [
      "train inputs shape: (5000, 32, 32, 3) train labels shape: (5000,)\n",
      "test inputs shape: (500, 32, 32, 3) test labels shape: (500,)\n"
     ]
    }
   ],
   "source": [
    "train_images, train_labels_1d = get_images_and_labels(trainset)\n",
    "test_images, test_labels_1d = get_images_and_labels(testset)\n",
    "\n",
    "print(f\"train inputs shape: {train_images.shape} train labels shape: {train_labels_1d.shape}\")\n",
    "print(f\"test inputs shape: {test_images.shape} test labels shape: {test_labels_1d.shape}\")"
   ]
  },
  {
   "cell_type": "code",
   "execution_count": 7,
   "metadata": {},
   "outputs": [],
   "source": [
    "def show_image(image_array):\n",
    "    image = Image.fromarray(image_array, mode=\"RGB\")\n",
    "    return image"
   ]
  },
  {
   "cell_type": "code",
   "execution_count": 8,
   "metadata": {},
   "outputs": [
    {
     "data": {
      "image/jpeg": "[encoded data removed]",
      "image/png": "[encoded data removed]",
      "text/plain": [
       "<PIL.Image.Image image mode=RGB size=32x32>"
      ]
     },
     "execution_count": 8,
     "metadata": {},
     "output_type": "execute_result"
    }
   ],
   "source": [
    "index = np.random.choice(len(train_images))\n",
    "sample_image = train_images[index]\n",
    "show_image(sample_image)"
   ]
  },
  {
   "cell_type": "code",
   "execution_count": 9,
   "metadata": {},
   "outputs": [
    {
     "name": "stdout",
     "output_type": "stream",
     "text": [
      "train inputs mean: 0.452 train inputs standard deviation: 0.251\n",
      "test inputs mean: 0.450 test inputs standard deviation: 0.250\n",
      "train inputs min and max (respectively): 0.0, 1.0\n",
      "test inputs min and max (respectively): 0.0, 1.0\n"
     ]
    }
   ],
   "source": [
    "train_inputs_normalized, test_inputs_normalized =  train_images / 255.0, test_images / 255.0\n",
    "print(f\"train inputs mean: {train_inputs_normalized.mean():.3f} train inputs standard deviation: {train_inputs_normalized.std():.3f}\")\n",
    "print(f\"test inputs mean: {test_inputs_normalized.mean():.3f} test inputs standard deviation: {test_inputs_normalized.std():.3f}\")\n",
    "\n",
    "print(f\"train inputs min and max (respectively): {train_inputs_normalized.min()}, {train_inputs_normalized.max()}\")\n",
    "print(f\"test inputs min and max (respectively): {test_inputs_normalized.min()}, {test_inputs_normalized.max()}\")"
   ]
  },
  {
   "cell_type": "code",
   "execution_count": 10,
   "metadata": {},
   "outputs": [
    {
     "name": "stdout",
     "output_type": "stream",
     "text": [
      "train inputs shape: (5000, 3072) train labels shape: (5000, 1)\n",
      "test inputs shape: (500, 3072) test labels shape: (500, 1)\n"
     ]
    }
   ],
   "source": [
    "train_inputs_flattened, test_inputs_flattened = flatten(train_inputs_normalized), flatten(test_inputs_normalized)\n",
    "train_labels_2d, test_labels_2d = train_labels_1d.reshape(-1, 1), test_labels_1d.reshape(-1, 1)\n",
    "\n",
    "print(f\"train inputs shape: {train_inputs_flattened.shape} train labels shape: {train_labels_2d.shape}\")\n",
    "print(f\"test inputs shape: {test_inputs_flattened.shape} test labels shape: {test_labels_2d.shape}\")"
   ]
  },
  {
   "cell_type": "code",
   "execution_count": 11,
   "metadata": {},
   "outputs": [],
   "source": [
    "def shuffle_arrays(inputs, labels):\n",
    "    indices = np.arange(len(labels))\n",
    "    np.random.shuffle(indices)\n",
    "    shuffled_inputs, shuffled_labels = inputs[indices], labels[indices]\n",
    "    return shuffled_inputs, shuffled_labels"
   ]
  },
  {
   "cell_type": "code",
   "execution_count": 12,
   "metadata": {},
   "outputs": [],
   "source": [
    "train_inputs, train_labels = shuffle_arrays(train_inputs_flattened, train_labels_2d)\n",
    "test_inputs, test_labels = shuffle_arrays(test_inputs_flattened, test_labels_2d)"
   ]
  },
  {
   "cell_type": "code",
   "execution_count": 16,
   "metadata": {},
   "outputs": [],
   "source": [
    "model = LogisticRegression(32 * 32 * 3)"
   ]
  },
  {
   "cell_type": "code",
   "execution_count": 17,
   "metadata": {},
   "outputs": [
    {
     "name": "stdout",
     "output_type": "stream",
     "text": [
      "training started\n",
      "training complete with average loss: 1.0960\n"
     ]
    }
   ],
   "source": [
    "train_loss, train_losses = model.train(train_inputs, train_labels, iterations=5000, learning_rate=5e-2, verbose=True)"
   ]
  },
  {
   "cell_type": "code",
   "execution_count": 18,
   "metadata": {},
   "outputs": [
    {
     "name": "stdout",
     "output_type": "stream",
     "text": [
      "testing started\n",
      "testing complete with average loss: 0.0372 and accuracy: 0.9960\n"
     ]
    }
   ],
   "source": [
    "test_loss, accuracy = model.test(test_inputs, test_labels, verbose=True)"
   ]
  }
 ],
 "metadata": {
  "kernelspec": {
   "display_name": "dl_venv",
   "language": "python",
   "name": "python3"
  },
  "language_info": {
   "codemirror_mode": {
    "name": "ipython",
    "version": 3
   },
   "file_extension": ".py",
   "mimetype": "text/x-python",
   "name": "python",
   "nbconvert_exporter": "python",
   "pygments_lexer": "ipython3",
   "version": "3.11.4"
  },
  "orig_nbformat": 4
 },
 "nbformat": 4,
 "nbformat_minor": 2
}
